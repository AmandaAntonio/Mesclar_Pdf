{
  "nbformat": 4,
  "nbformat_minor": 0,
  "metadata": {
    "colab": {
      "provenance": [],
      "authorship_tag": "ABX9TyM2JvaWkhHWcporwk3Bufp3",
      "include_colab_link": true
    },
    "kernelspec": {
      "name": "python3",
      "display_name": "Python 3"
    },
    "language_info": {
      "name": "python"
    }
  },
  "cells": [
    {
      "cell_type": "markdown",
      "metadata": {
        "id": "view-in-github",
        "colab_type": "text"
      },
      "source": [
        "<a href=\"https://colab.research.google.com/github/AmandaAntonio/Mesclar_Pdf/blob/main/Mesclar_PDF.ipynb\" target=\"_parent\"><img src=\"https://colab.research.google.com/assets/colab-badge.svg\" alt=\"Open In Colab\"/></a>"
      ]
    },
    {
      "cell_type": "markdown",
      "source": [
        "#Carregando Bibliotecas"
      ],
      "metadata": {
        "id": "SPsvYXDWAvvF"
      }
    },
    {
      "cell_type": "code",
      "source": [
        "#Instalando a Biblioteca PyPDF2\n",
        "!pip install PyPDF2"
      ],
      "metadata": {
        "colab": {
          "base_uri": "https://localhost:8080/"
        },
        "id": "O57iKMIYAEyQ",
        "outputId": "eecc822c-b673-4284-acdd-616496d211c2"
      },
      "execution_count": 1,
      "outputs": [
        {
          "output_type": "stream",
          "name": "stdout",
          "text": [
            "Collecting PyPDF2\n",
            "  Downloading pypdf2-3.0.1-py3-none-any.whl (232 kB)\n",
            "\u001b[?25l     \u001b[90m━━━━━━━━━━━━━━━━━━━━━━━━━━━━━━━━━━━━━━━━\u001b[0m \u001b[32m0.0/232.6 kB\u001b[0m \u001b[31m?\u001b[0m eta \u001b[36m-:--:--\u001b[0m\r\u001b[2K     \u001b[91m━━━━━━━━━━━━━━━━━━━━━━━━━━━━━━━━━━━━━\u001b[0m\u001b[91m╸\u001b[0m\u001b[90m━\u001b[0m \u001b[32m225.3/232.6 kB\u001b[0m \u001b[31m6.7 MB/s\u001b[0m eta \u001b[36m0:00:01\u001b[0m\r\u001b[2K     \u001b[90m━━━━━━━━━━━━━━━━━━━━━━━━━━━━━━━━━━━━━━━\u001b[0m \u001b[32m232.6/232.6 kB\u001b[0m \u001b[31m5.3 MB/s\u001b[0m eta \u001b[36m0:00:00\u001b[0m\n",
            "\u001b[?25hInstalling collected packages: PyPDF2\n",
            "Successfully installed PyPDF2-3.0.1\n"
          ]
        }
      ]
    },
    {
      "cell_type": "code",
      "execution_count": 2,
      "metadata": {
        "id": "X_oDY9dw9PwG"
      },
      "outputs": [],
      "source": [
        "# Carregando as Bibliotecas\n",
        "import os\n",
        "import PyPDF2"
      ]
    },
    {
      "cell_type": "markdown",
      "source": [
        "# Projeto do \"Mesclador\""
      ],
      "metadata": {
        "id": "9-Vbb3AfF2xG"
      }
    },
    {
      "cell_type": "code",
      "source": [
        "# Criar os \"Mesclador\"\n",
        "mesclar = PyPDF2.PdfMerger()"
      ],
      "metadata": {
        "id": "3S70zWpq9g30"
      },
      "execution_count": 3,
      "outputs": []
    },
    {
      "cell_type": "code",
      "source": [
        "# Listar os arquivos em PDF da pasta\n",
        "lista_arquivos = os.listdir('arquivos') #percorre os arquivos da pasta(diretório) e cria uma lista\n",
        "lista_arquivos.sort() #põe na ordem\n",
        "print(lista_arquivos) #exibindo os arquivos da pasta"
      ],
      "metadata": {
        "colab": {
          "base_uri": "https://localhost:8080/"
        },
        "id": "YAlS7A2zBfk3",
        "outputId": "c1686c5d-ef5d-46b0-a548-abfbb97c52a8"
      },
      "execution_count": 4,
      "outputs": [
        {
          "output_type": "stream",
          "name": "stdout",
          "text": [
            "['01. PDF.pdf', '02. Arquivo.pdf', '03. Ultimo Arquivo.pdf']\n"
          ]
        }
      ]
    },
    {
      "cell_type": "code",
      "source": [
        "# Mesclar os arquivos em PDF\n",
        "for arquivo in lista_arquivos: #seleciona cada arquivo da lista de arquivos\n",
        "  if '.pdf' in arquivo:  #garante que apenas arquivos PDFs sejam selecionados\n",
        "    mesclar.append(f'arquivos/{arquivo}') #mesclado os arquivos"
      ],
      "metadata": {
        "id": "IPtve4TQC2aJ"
      },
      "execution_count": 5,
      "outputs": []
    },
    {
      "cell_type": "code",
      "source": [
        "# Salvar o arquivo final\n",
        "mesclar.write('Arquivo Final.pdf')"
      ],
      "metadata": {
        "id": "BmJwGjlFFQNw"
      },
      "execution_count": 6,
      "outputs": []
    }
  ]
}